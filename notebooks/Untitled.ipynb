{
 "cells": [
  {
   "cell_type": "code",
   "execution_count": 381,
   "metadata": {},
   "outputs": [],
   "source": [
    "import numpy as np\n",
    "import matplotlib.pyplot as plt\n",
    "import tqdm\n",
    "import os\n",
    "import glob\n",
    "from scipy.integrate import solve_ivp\n",
    "from multiprocessing import cpu_count, Pool"
   ]
  },
  {
   "cell_type": "code",
   "execution_count": 403,
   "metadata": {},
   "outputs": [],
   "source": [
    "class DoubleSpring:\n",
    "    \"\"\"\n",
    "    \"\"\"\n",
    "    def __init__(self, alpha_0=None, beta_0=None, t_end=2, dt=0.01):\n",
    "        self.g = 9.81\n",
    "        if alpha_0 is not None:\n",
    "            self.alpha_0 = alpha_0\n",
    "        else:\n",
    "            self.alpha_0 = np.random.uniform(-np.pi, np.pi)\n",
    "            \n",
    "        if beta_0 is not None:\n",
    "            self.beta_0 = beta_0\n",
    "        else:\n",
    "            self.beta_0 = np.random.uniform(-np.pi, np.pi)\n",
    "        self.alpha_1 = 0.\n",
    "        self.beta_1 = 0.\n",
    "        \n",
    "        self.a0 = 1.\n",
    "        self.b0 = 1.\n",
    "        self.a1 = 0.\n",
    "        self.b1 = 0.\n",
    "        self.dt = dt\n",
    "        self.t_end = t_end\n",
    "        \n",
    "        self.l1 = 1.\n",
    "        self.l2 = 1.\n",
    "        self.m1 = 1.\n",
    "        self.m2 = 1.\n",
    "        self.k1 = 40.\n",
    "        self.k2 = 50.\n",
    "        \n",
    "        self.x1 = 0\n",
    "        self.x2 = 0\n",
    "        self.y1 = 0\n",
    "        self.y2 = 0\n",
    "\n",
    "    def _alpha_pp(self):\n",
    "        # Y[0] = alpha_1, Y[1] = alpha_0\n",
    "        return (-(self.g * self.m1 * np.sin(self.alpha_0) - self.k2 * self.l2 * np.sin(self.alpha_0 - self.beta_0) +\n",
    "                  self.k2 * self.b0 * np.sin(self.alpha_0 - self.beta_0) + \n",
    "                  2 * self.m1 * self.a1 * self.alpha_1) / (self.m1 * self.a0))\n",
    "    \n",
    "    def _beta_pp(self):\n",
    "        # Y[0] = beta_1, Y[1] = beta_0\n",
    "        return ((-self.k1 * self.l1 * np.sin(self.alpha_0 - self.beta_0) + \n",
    "                 self.k1 * self.a0 * np.sin(self.alpha_0 - self.beta_0) -\n",
    "                 2. * self.m1 * self.b1 * self.beta_1) / (self.m1 * self.b0))\n",
    "    \n",
    "    def _a_pp(self):\n",
    "        # Y[0] = a1, Y[1] = a0\n",
    "        return ((self.k1 * self.l1 + self.g * self.m1 * np.cos(self.alpha_0) - \n",
    "                 self.k2 * self.l2 * np.cos(self.alpha_0 - self.beta_0) + \n",
    "                 self.k2 * self.b0 * np.cos(self.alpha_0 - self.beta_0) + \n",
    "                 self.a0 * (-self.k1 + self.m1 * self.alpha_1 ** 2)) / self.m1)\n",
    "    \n",
    "    def _b_pp(self):\n",
    "        # Y[0] = b1, Y[1] = b0\n",
    "        return ((self.k2 * self.l2 * self.m1 + \n",
    "                 self.k2 * self.l2 * self.m2 * np.cos(self.alpha_0 - self.beta_0) +\n",
    "                 self.k1 * self.m2 * self.a0 * np.cos(self.alpha_0 - self.beta_0) -\n",
    "                 self.b0 * (self.k2 * (self.m1 + self.m2) - self.m1 * self.m2 * self.beta_1 ** 2)) / (self.m1 * self.m2))\n",
    "\n",
    "\n",
    "    def integrate(self):\n",
    "        t = 0\n",
    "        storage = []\n",
    "        while t < self.t_end:\n",
    "            # Second-Order\n",
    "            self.alpha_1 += self._alpha_pp() * self.dt\n",
    "            self.beta_1 += self._beta_pp() * self.dt\n",
    "            self.a1 += self._a_pp() * self.dt\n",
    "            self.b1 += self._b_pp() * self.dt\n",
    "            \n",
    "            # First-Order\n",
    "            self.alpha_0 += self.alpha_1 * self.dt\n",
    "            self.beta_0 += self.beta_1 * self.dt\n",
    "            self.a0 += self.a1 * self.dt\n",
    "            self.b0 += self.b1 * self.dt\n",
    "            \n",
    "            t += self.dt\n",
    "            storage.append([self.alpha_0, self.beta_0, self.a0, self.b0])\n",
    "            \n",
    "        return self.cartesian(np.array(storage))\n",
    "    \n",
    "    def cartesian(self, array):\n",
    "        \"\"\"\n",
    "        \"\"\"\n",
    "        self.x1 = array[:, 2] * np.sin(array[:, 0])\n",
    "        self.x2 = self.x1 + array[:, 3] * np.sin(array[:, 1])\n",
    "        self.y1 = -array[:, 2] * np.cos(array[:, 0])\n",
    "        self.y2 = self.y1 - array[:, 3] * np.cos(array[:, 1])\n",
    "        return self.x1, self.y1, self.x2, self.y2\n",
    "    \n",
    "    def plot_spring(self):\n",
    "        pass\n",
    "    \n",
    "    def animite_spring(self):\n",
    "        pass\n",
    "    \n",
    "    def clear_figs(self):\n",
    "        \"\"\"\n",
    "        \"\"\"\n",
    "        figs = glob.glob('*png')\n",
    "        for f in figs:\n",
    "            os.remove(f)\n",
    "        "
   ]
  },
  {
   "cell_type": "code",
   "execution_count": 374,
   "metadata": {},
   "outputs": [],
   "source": [
    "ds = DoubleSpring(dt=0.01, t_end=2.)\n",
    "_ = ds.integrate()"
   ]
  },
  {
   "cell_type": "code",
   "execution_count": 375,
   "metadata": {},
   "outputs": [],
   "source": [
    "colors_0 = np.zeros((ds.x1.shape[0], 4))\n",
    "colors_1 = np.zeros((ds.x1.shape[0], 4))\n",
    "alpha = np.linspace(0., 1., ds.x1.shape[0])\n",
    "colors_0[:, 0] = 1.\n",
    "colors_1[:, 2] = 1.\n",
    "colors_0[:, 3] = alpha\n",
    "colors_1[:, 3] = alpha"
   ]
  },
  {
   "cell_type": "code",
   "execution_count": 376,
   "metadata": {},
   "outputs": [
    {
     "data": {
      "image/png": "[encoded data removed]",
      "text/plain": [
       "<Figure size 720x432 with 1 Axes>"
      ]
     },
     "metadata": {
      "needs_background": "light"
     },
     "output_type": "display_data"
    }
   ],
   "source": [
    "plt.figure(figsize=(10,6))\n",
    "plt.scatter(ds.x1, ds.y1, color=colors_0, s=1)\n",
    "plt.scatter(ds.x2, ds.y2, color=colors_1, s=1)\n",
    "plt.show()"
   ]
  },
  {
   "cell_type": "code",
   "execution_count": 377,
   "metadata": {},
   "outputs": [
    {
     "data": {
      "image/png": "[encoded data removed]",
      "text/plain": [
       "<Figure size 720x432 with 2 Axes>"
      ]
     },
     "metadata": {
      "needs_background": "light"
     },
     "output_type": "display_data"
    }
   ],
   "source": [
    "fig, axs = plt.subplots(2, 1, figsize=(10,6), sharex=True)\n",
    "axs[0].plot(ds.x1, color='red')\n",
    "axs[0].plot(ds.x2, color='blue')\n",
    "axs[1].plot(ds.y1, color='red')\n",
    "axs[1].plot(ds.y2, color='blue')\n",
    "fig.tight_layout()\n",
    "plt.show()"
   ]
  },
  {
   "cell_type": "code",
   "execution_count": 378,
   "metadata": {},
   "outputs": [
    {
     "data": {
      "image/png": "[encoded data removed]",
      "text/plain": [
       "<Figure size 720x432 with 1 Axes>"
      ]
     },
     "metadata": {
      "needs_background": "light"
     },
     "output_type": "display_data"
    }
   ],
   "source": [
    "plt.figure(figsize=(10,6))\n",
    "plt.plot(np.sqrt((ds.x1 - ds.x2) ** 2 + (ds.y1 - ds.y2) ** 2), color='purple')\n",
    "plt.show()"
   ]
  },
  {
   "cell_type": "code",
   "execution_count": 379,
   "metadata": {},
   "outputs": [],
   "source": [
    "ds.clear_figs()"
   ]
  },
  {
   "cell_type": "code",
   "execution_count": 380,
   "metadata": {},
   "outputs": [],
   "source": [
    "def savefig(i, dpi=100):\n",
    "    fig = plt.figure(figsize=(800./ dpi, 800./dpi), dpi=dpi)\n",
    "    plt.plot(ds.x1[:i], ds.y1[:i], color='red', alpha=0.75, linestyle=':', zorder=0, linewidth=1.)\n",
    "    plt.plot(ds.x2[:i], ds.y2[:i], color='blue', alpha=0.75, linestyle=':', zorder=0, linewidth=1.)\n",
    "    plt.plot([0, ds.x1[i]], [0, ds.y1[i]], color='red', zorder=1)\n",
    "    plt.plot([ds.x1[i], ds.x2[i]], [ds.y1[i], ds.y2[i]], color='blue', zorder=1)\n",
    "    plt.scatter([0, ds.x1[i], ds.x2[i]], [0, ds.y1[i], ds.y2[i]], color=((0,0,0,1),(1,0,0,1),(0,0,1,1)), zorder=2)\n",
    "    m1 = np.max([ds.x1, ds.x2])\n",
    "    m2 = np.max([ds.y1, ds.y2])\n",
    "    if m1 < 0:\n",
    "        m1 = 2\n",
    "    if m2 < 0:\n",
    "        m2 = 2\n",
    "    plt.xlim([np.min([ds.x1, ds.x2]), m1])\n",
    "    plt.ylim([np.min([ds.y1, ds.y2]), m2])\n",
    "    plt.savefig(str(i).zfill(5) + '.png', dpi=dpi)\n",
    "    plt.clf()\n",
    "    plt.close()"
   ]
  },
  {
   "cell_type": "code",
   "execution_count": 168,
   "metadata": {},
   "outputs": [
    {
     "name": "stderr",
     "output_type": "stream",
     "text": [
      "Process ForkPoolWorker-226:\n",
      "Process ForkPoolWorker-227:\n",
      "Process ForkPoolWorker-228:\n",
      "Process ForkPoolWorker-229:\n",
      "Traceback (most recent call last):\n",
      "Traceback (most recent call last):\n",
      "Traceback (most recent call last):\n",
      "Traceback (most recent call last):\n",
      "  File \"/Users/tyler/opt/anaconda3/lib/python3.7/multiprocessing/process.py\", line 297, in _bootstrap\n",
      "    self.run()\n",
      "  File \"/Users/tyler/opt/anaconda3/lib/python3.7/multiprocessing/process.py\", line 297, in _bootstrap\n",
      "    self.run()\n",
      "  File \"/Users/tyler/opt/anaconda3/lib/python3.7/multiprocessing/process.py\", line 297, in _bootstrap\n",
      "    self.run()\n",
      "  File \"/Users/tyler/opt/anaconda3/lib/python3.7/multiprocessing/process.py\", line 297, in _bootstrap\n",
      "    self.run()\n",
      "  File \"/Users/tyler/opt/anaconda3/lib/python3.7/multiprocessing/process.py\", line 99, in run\n",
      "    self._target(*self._args, **self._kwargs)\n",
      "  File \"/Users/tyler/opt/anaconda3/lib/python3.7/multiprocessing/process.py\", line 99, in run\n",
      "    self._target(*self._args, **self._kwargs)\n",
      "  File \"/Users/tyler/opt/anaconda3/lib/python3.7/multiprocessing/process.py\", line 99, in run\n",
      "    self._target(*self._args, **self._kwargs)\n",
      "  File \"/Users/tyler/opt/anaconda3/lib/python3.7/multiprocessing/process.py\", line 99, in run\n",
      "    self._target(*self._args, **self._kwargs)\n",
      "  File \"/Users/tyler/opt/anaconda3/lib/python3.7/multiprocessing/pool.py\", line 110, in worker\n",
      "    task = get()\n",
      "  File \"/Users/tyler/opt/anaconda3/lib/python3.7/multiprocessing/pool.py\", line 110, in worker\n",
      "    task = get()\n",
      "  File \"/Users/tyler/opt/anaconda3/lib/python3.7/multiprocessing/pool.py\", line 110, in worker\n",
      "    task = get()\n",
      "  File \"/Users/tyler/opt/anaconda3/lib/python3.7/multiprocessing/pool.py\", line 110, in worker\n",
      "    task = get()\n",
      "  File \"/Users/tyler/opt/anaconda3/lib/python3.7/multiprocessing/queues.py\", line 351, in get\n",
      "    with self._rlock:\n",
      "  File \"/Users/tyler/opt/anaconda3/lib/python3.7/multiprocessing/queues.py\", line 351, in get\n",
      "    with self._rlock:\n",
      "  File \"/Users/tyler/opt/anaconda3/lib/python3.7/multiprocessing/queues.py\", line 351, in get\n",
      "    with self._rlock:\n",
      "  File \"/Users/tyler/opt/anaconda3/lib/python3.7/multiprocessing/queues.py\", line 352, in get\n",
      "    res = self._reader.recv_bytes()\n",
      "  File \"/Users/tyler/opt/anaconda3/lib/python3.7/multiprocessing/synchronize.py\", line 95, in __enter__\n",
      "    return self._semlock.__enter__()\n",
      "  File \"/Users/tyler/opt/anaconda3/lib/python3.7/multiprocessing/synchronize.py\", line 95, in __enter__\n",
      "    return self._semlock.__enter__()\n",
      "  File \"/Users/tyler/opt/anaconda3/lib/python3.7/multiprocessing/synchronize.py\", line 95, in __enter__\n",
      "    return self._semlock.__enter__()\n",
      "  File \"/Users/tyler/opt/anaconda3/lib/python3.7/multiprocessing/connection.py\", line 216, in recv_bytes\n",
      "    buf = self._recv_bytes(maxlength)\n",
      "KeyboardInterrupt\n",
      "KeyboardInterrupt\n",
      "KeyboardInterrupt\n",
      "  File \"/Users/tyler/opt/anaconda3/lib/python3.7/multiprocessing/connection.py\", line 407, in _recv_bytes\n",
      "    buf = self._recv(4)\n",
      "  File \"/Users/tyler/opt/anaconda3/lib/python3.7/multiprocessing/connection.py\", line 379, in _recv\n",
      "    chunk = read(handle, remaining)\n",
      "KeyboardInterrupt\n"
     ]
    }
   ],
   "source": [
    "cores = cpu_count()\n",
    "pool = Pool(processes=cores)"
   ]
  },
  {
   "cell_type": "code",
   "execution_count": 169,
   "metadata": {},
   "outputs": [],
   "source": [
    "_ = pool.map(savefig, np.arange(ds.x1.shape[0]))"
   ]
  },
  {
   "cell_type": "code",
   "execution_count": 74,
   "metadata": {},
   "outputs": [],
   "source": [
    "#_ = pool.map(savefig, np.arange(4))"
   ]
  },
  {
   "cell_type": "markdown",
   "metadata": {},
   "source": [
    "## Integration Library"
   ]
  },
  {
   "cell_type": "code",
   "execution_count": 860,
   "metadata": {},
   "outputs": [],
   "source": [
    "class DoubleSpringInt:\n",
    "    \"\"\"\n",
    "    \"\"\"\n",
    "    def __init__(self, alpha_0=None, beta_0=None, t_end=2, dt=0.01, fig_cache='_figs', cores=None):\n",
    "        self.g = 9.81\n",
    "        if alpha_0 is not None:\n",
    "            self.alpha_0 = alpha_0\n",
    "        else:\n",
    "            self.alpha_0 = np.random.uniform(-np.pi, np.pi)\n",
    "            \n",
    "        if beta_0 is not None:\n",
    "            self.beta_0 = beta_0\n",
    "        else:\n",
    "            self.beta_0 = np.random.uniform(-np.pi, np.pi)\n",
    "            \n",
    "        self.fig_cache = fig_cache\n",
    "        if not os.path.exists(self.fig_cache):\n",
    "            os.mkdir(self.fig_cache)\n",
    "    \n",
    "        self.alpha_1 = 0.\n",
    "        self.beta_1 = 0.\n",
    "        \n",
    "        self.a0 = 1.\n",
    "        self.b0 = 1.\n",
    "        self.a1 = 0.\n",
    "        self.b1 = 0.\n",
    "        self.dt = dt\n",
    "        self.t_end = t_end\n",
    "        \n",
    "        #\n",
    "        self.l1 = 1.\n",
    "        self.l2 = 1.\n",
    "        self.m1 = 1.\n",
    "        self.m2 = 1.\n",
    "        self.k1 = np.random.uniform(35, 55)\n",
    "        self.k2 = np.random.uniform(35, 55)\n",
    "  \n",
    "        self.t_eval = np.arange(0, self.t_end, self.dt)\n",
    "        if cores is None:\n",
    "            self.cores = cpu_count()\n",
    "        else:\n",
    "            self.cores = cores\n",
    "\n",
    "    def _alpha_pp(self, t, Y):\n",
    "        # Y[0] = alpha_1, Y[1] = alpha_0\n",
    "        alpha_0, alpha_1, beta_0, beta_1, a0, a1, b0, _ = Y\n",
    "        return (-(self.g * self.m1 * np.sin(alpha_0) - self.k2 * self.l2 * np.sin(alpha_0 - beta_0) +\n",
    "                  self.k2 * b0 * np.sin(alpha_0 - beta_0) + \n",
    "                  2 * self.m1 * a1 * alpha_1) / (self.m1 * a0))\n",
    "    \n",
    "    def _beta_pp(self, t, Y):\n",
    "        # Y[0] = beta_1, Y[1] = beta_0\n",
    "        alpha_0, alpha_1, beta_0, beta_1, a0, a1, b0, b1 = Y\n",
    "        return ((-self.k1 * self.l1 * np.sin(alpha_0 - beta_0) + \n",
    "                 self.k1 * a0 * np.sin(alpha_0 - beta_0) -\n",
    "                 2. * self.m1 * b1 * beta_1) / (self.m1 * b0))\n",
    "    \n",
    "    def _a_pp(self, t, Y):\n",
    "        # Y[0] = a1, Y[1] = a0\n",
    "        alpha_0, alpha_1, beta_0, beta_1, a0, a1, b0, b1 = Y\n",
    "        return ((self.k1 * self.l1 + self.g * self.m1 * np.cos(alpha_0) - \n",
    "                 self.k2 * self.l2 * np.cos(alpha_0 - beta_0) + \n",
    "                 self.k2 * b0 * np.cos(alpha_0 - beta_0) + \n",
    "                 a0 * (-self.k1 + self.m1 * alpha_1 ** 2)) / self.m1)\n",
    "    \n",
    "    def _b_pp(self, t, Y):\n",
    "        # Y[0] = b1, Y[1] = b0\n",
    "        alpha_0, alpha_1, beta_0, beta_1, a0, a1, b0, b1 = Y\n",
    "        return ((self.k2 * self.l2 * self.m1 + \n",
    "                 self.k2 * self.l2 * self.m2 * np.cos(alpha_0 - beta_0) +\n",
    "                 self.k1 * self.m2 * a0 * np.cos(alpha_0 - beta_0) -\n",
    "                 b0 * (self.k2 * (self.m1 + self.m2) - self.m1 * self.m2 * beta_1 ** 2)) / (self.m1 * self.m2))\n",
    "\n",
    "\n",
    "    def _inte(self, t, Y):\n",
    "        return [Y[1], self._alpha_pp(t, Y), Y[3], self._beta_pp(t, Y),\n",
    "                Y[5], self._a_pp(t, Y), Y[7], self._b_pp(t, Y)]\n",
    "    \n",
    "    def integrate(self):\n",
    "        Y0 = [self.alpha_0, self.alpha_1, self.beta_0, self.beta_1, self.a0, self.a1, self.b0, self.b1]\n",
    "        self.solution = solve_ivp(self._inte, [0, self.t_end], Y0, t_eval=self.t_eval)\n",
    "        self.cartesian(self.solution.y[[0, 2, 4, 6]].T)\n",
    "        return self.solution\n",
    "    \n",
    "    def cartesian(self, array):\n",
    "        \"\"\"\n",
    "        \"\"\"\n",
    "        self.x1 = array[:, 2] * np.sin(array[:, 0])\n",
    "        self.x2 = self.x1 + array[:, 3] * np.sin(array[:, 1])\n",
    "        self.y1 = -array[:, 2] * np.cos(array[:, 0])\n",
    "        self.y2 = self.y1 - array[:, 3] * np.cos(array[:, 1])\n",
    "        return self.x1, self.y1, self.x2, self.y2\n",
    "    \n",
    "    def _plot_settings(self, x):\n",
    "        colors_0 = np.zeros((x.shape[0], 4))\n",
    "        colors_1 = np.zeros((x.shape[0], 4))\n",
    "        alpha = np.linspace(0.4, 0.8, x.shape[0]) ** 2.\n",
    "        colors_0[:, 0] = 1.\n",
    "        colors_1[:, 2] = 1.\n",
    "        colors_0[:, 3] = alpha\n",
    "        colors_1[:, 3] = alpha\n",
    "        return colors_0, colors_1\n",
    "    \n",
    "    def plot_spring(self):\n",
    "        colors_0, colors_1 = self._plot_settings()\n",
    "        \n",
    "        # Plot\n",
    "        fig, ax = plt.subplots(figsize=(10,6))\n",
    "        ax.scatter(self.x1, self.y1, color=colors_0, s=1)\n",
    "        ax.scatter(self.x2, self.y2, color=colors_1, s=1)\n",
    "        plt.show()\n",
    "    \n",
    "    def animate_spring(self, movie=False):\n",
    "        self.clear_figs()\n",
    "        pool = Pool(processes=self.cores)\n",
    "        pool.map(self.save_frame, np.arange(self.x1.shape[0]))\n",
    "        if movie:\n",
    "            self.make_movie()\n",
    "    \n",
    "    def save_frame(self, i, dpi=100, trace=True, axes_off=True, size=800):\n",
    "        colors_0, colors_1 = self._plot_settings(self.x1)\n",
    "        fig = plt.figure(figsize=(size / dpi, size / dpi), dpi=dpi)\n",
    "        if trace:\n",
    "            plt.scatter(self.x1[:i], self.y1[:i], color=colors_0[:i], s=2., \n",
    "                        zorder=0)\n",
    "            plt.scatter(self.x2[:i], self.y2[:i], color=colors_1[:i], s=2., \n",
    "                        zorder=0)\n",
    "        plt.plot([0, self.x1[i]], [0, self.y1[i]], color='red', \n",
    "                 zorder=1)\n",
    "        plt.plot([self.x1[i], self.x2[i]], [self.y1[i], self.y2[i]], \n",
    "                 color='blue', zorder=1)\n",
    "        plt.scatter([0, self.x1[i], self.x2[i]], [0, self.y1[i], self.y2[i]], \n",
    "                    color=((0,0,0,1),(1,0,0,1),(0,0,1,1)), zorder=2)\n",
    "        m1 = np.max([self.x1, self.x2])\n",
    "        m2 = np.max([self.y1, self.y2])\n",
    "        if m1 < 0:\n",
    "            m1 = 2\n",
    "        if m2 < 0:\n",
    "            m2 = 2\n",
    "        plt.xlim([np.min([self.x1, self.x2]), m1])\n",
    "        plt.ylim([np.min([self.y1, self.y2]), m2])\n",
    "        if axes_off:\n",
    "            plt.axis('off')\n",
    "        fig.set_size_inches(size/dpi, size/dpi, forward=True)\n",
    "        fig.tight_layout()\n",
    "        plt.savefig(os.path.join(self.fig_cache, str(i).zfill(5) + '.png'), dpi=dpi)\n",
    "        plt.clf()\n",
    "        plt.close()\n",
    "    \n",
    "    def clear_figs(self):\n",
    "        \"\"\"\n",
    "        \"\"\"\n",
    "        figs = glob.glob(os.path.join(self.fig_cache, '*png'))\n",
    "        for f in figs:\n",
    "            os.remove(f)\n",
    "            \n",
    "    def make_movie(self, frame_rate=60):\n",
    "        \"\"\"\n",
    "        \"\"\"\n",
    "        fname = 'dsp_{:.2f}_{:.2f}.mp4'.format(self.alpha_0, self.beta_0)\n",
    "        fname = os.path.join(self.fig_cache, fname)\n",
    "        figs = os.path.join(self.fig_cache, '%05d.png')\n",
    "        os.system('ffmpeg -r {} -f image2 -s 1920x1080 -i {} -vcodec \\\n",
    "                    libx264 -crf 25  -pix_fmt yuv420p {}'.format(frame_rate, figs, fname))\n",
    "        \n",
    "        "
   ]
  },
  {
   "cell_type": "code",
   "execution_count": 425,
   "metadata": {},
   "outputs": [
    {
     "name": "stderr",
     "output_type": "stream",
     "text": [
      "/Users/tyler/opt/anaconda3/lib/python3.7/site-packages/ipykernel_launcher.py:41: RuntimeWarning: overflow encountered in double_scalars\n",
      "/Users/tyler/opt/anaconda3/lib/python3.7/site-packages/ipykernel_launcher.py:47: RuntimeWarning: overflow encountered in double_scalars\n",
      "/Users/tyler/opt/anaconda3/lib/python3.7/site-packages/ipykernel_launcher.py:40: RuntimeWarning: invalid value encountered in sin\n",
      "/Users/tyler/opt/anaconda3/lib/python3.7/site-packages/ipykernel_launcher.py:40: RuntimeWarning: invalid value encountered in double_scalars\n",
      "/Users/tyler/opt/anaconda3/lib/python3.7/site-packages/ipykernel_launcher.py:46: RuntimeWarning: invalid value encountered in double_scalars\n",
      "/Users/tyler/opt/anaconda3/lib/python3.7/site-packages/ipykernel_launcher.py:53: RuntimeWarning: invalid value encountered in cos\n",
      "/Users/tyler/opt/anaconda3/lib/python3.7/site-packages/ipykernel_launcher.py:53: RuntimeWarning: invalid value encountered in double_scalars\n",
      "/Users/tyler/opt/anaconda3/lib/python3.7/site-packages/ipykernel_launcher.py:60: RuntimeWarning: invalid value encountered in double_scalars\n",
      "/Users/tyler/opt/anaconda3/lib/python3.7/site-packages/ipykernel_launcher.py:88: RuntimeWarning: invalid value encountered in sin\n",
      "/Users/tyler/opt/anaconda3/lib/python3.7/site-packages/ipykernel_launcher.py:89: RuntimeWarning: invalid value encountered in sin\n",
      "/Users/tyler/opt/anaconda3/lib/python3.7/site-packages/ipykernel_launcher.py:90: RuntimeWarning: invalid value encountered in cos\n",
      "/Users/tyler/opt/anaconda3/lib/python3.7/site-packages/ipykernel_launcher.py:91: RuntimeWarning: invalid value encountered in cos\n"
     ]
    }
   ],
   "source": [
    "arr = np.random.uniform(-np.pi, np.pi, size=2)\n",
    "\n",
    "ds_org = DoubleSpring(dt=0.01, t_end=20., alpha_0=arr[0], beta_0=arr[1])\n",
    "_ = ds_org.integrate()\n",
    "\n",
    "ds = DoubleSpringInt(dt=0.01, t_end=20., alpha_0=arr[0], beta_0=arr[1])\n",
    "sol = ds.integrate()"
   ]
  },
  {
   "cell_type": "code",
   "execution_count": 427,
   "metadata": {},
   "outputs": [],
   "source": [
    "colors_0 = np.zeros((x1.shape[0], 4))\n",
    "colors_1 = np.zeros((x1.shape[0], 4))\n",
    "alpha = np.linspace(0., 1., x1.shape[0])\n",
    "colors_0[:, 0] = 1.\n",
    "colors_1[:, 2] = 1.\n",
    "colors_0[:, 3] = alpha\n",
    "colors_1[:, 3] = alpha"
   ]
  },
  {
   "cell_type": "code",
   "execution_count": 428,
   "metadata": {},
   "outputs": [],
   "source": [
    "def cum_mean(arr):\n",
    "    cum_sum = np.cumsum(arr, axis=0)    \n",
    "    for i in range(cum_sum.shape[0]):       \n",
    "        if i == 0:\n",
    "            continue        \n",
    "        cum_sum[i] =  cum_sum[i] / (i + 1)\n",
    "    return cum_sum"
   ]
  },
  {
   "cell_type": "markdown",
   "metadata": {},
   "source": [
    "## Test Functions"
   ]
  },
  {
   "cell_type": "code",
   "execution_count": 556,
   "metadata": {},
   "outputs": [],
   "source": [
    "ds = DoubleSpringInt(dt=1. / 60., t_end=10.)\n",
    "_ = ds.integrate()"
   ]
  },
  {
   "cell_type": "code",
   "execution_count": 558,
   "metadata": {},
   "outputs": [
    {
     "name": "stderr",
     "output_type": "stream",
     "text": [
      "Process ForkPoolWorker-426:\n",
      "Process ForkPoolWorker-427:\n",
      "Process ForkPoolWorker-428:\n",
      "Process ForkPoolWorker-425:\n",
      "Traceback (most recent call last):\n",
      "Traceback (most recent call last):\n",
      "Traceback (most recent call last):\n",
      "  File \"/Users/tyler/opt/anaconda3/lib/python3.7/multiprocessing/process.py\", line 297, in _bootstrap\n",
      "    self.run()\n",
      "  File \"/Users/tyler/opt/anaconda3/lib/python3.7/multiprocessing/process.py\", line 297, in _bootstrap\n",
      "    self.run()\n",
      "  File \"/Users/tyler/opt/anaconda3/lib/python3.7/multiprocessing/process.py\", line 297, in _bootstrap\n",
      "    self.run()\n",
      "  File \"/Users/tyler/opt/anaconda3/lib/python3.7/multiprocessing/process.py\", line 99, in run\n",
      "    self._target(*self._args, **self._kwargs)\n",
      "  File \"/Users/tyler/opt/anaconda3/lib/python3.7/multiprocessing/process.py\", line 99, in run\n",
      "    self._target(*self._args, **self._kwargs)\n",
      "Traceback (most recent call last):\n",
      "  File \"/Users/tyler/opt/anaconda3/lib/python3.7/multiprocessing/process.py\", line 99, in run\n",
      "    self._target(*self._args, **self._kwargs)\n",
      "  File \"/Users/tyler/opt/anaconda3/lib/python3.7/multiprocessing/pool.py\", line 110, in worker\n",
      "    task = get()\n",
      "  File \"/Users/tyler/opt/anaconda3/lib/python3.7/multiprocessing/pool.py\", line 110, in worker\n",
      "    task = get()\n",
      "  File \"/Users/tyler/opt/anaconda3/lib/python3.7/multiprocessing/process.py\", line 297, in _bootstrap\n",
      "    self.run()\n",
      "  File \"/Users/tyler/opt/anaconda3/lib/python3.7/multiprocessing/pool.py\", line 110, in worker\n",
      "    task = get()\n",
      "  File \"/Users/tyler/opt/anaconda3/lib/python3.7/multiprocessing/queues.py\", line 351, in get\n",
      "    with self._rlock:\n",
      "  File \"/Users/tyler/opt/anaconda3/lib/python3.7/multiprocessing/queues.py\", line 351, in get\n",
      "    with self._rlock:\n",
      "  File \"/Users/tyler/opt/anaconda3/lib/python3.7/multiprocessing/process.py\", line 99, in run\n",
      "    self._target(*self._args, **self._kwargs)\n",
      "  File \"/Users/tyler/opt/anaconda3/lib/python3.7/multiprocessing/queues.py\", line 351, in get\n",
      "    with self._rlock:\n",
      "  File \"/Users/tyler/opt/anaconda3/lib/python3.7/multiprocessing/synchronize.py\", line 95, in __enter__\n",
      "    return self._semlock.__enter__()\n",
      "  File \"/Users/tyler/opt/anaconda3/lib/python3.7/multiprocessing/synchronize.py\", line 95, in __enter__\n",
      "    return self._semlock.__enter__()\n",
      "  File \"/Users/tyler/opt/anaconda3/lib/python3.7/multiprocessing/pool.py\", line 110, in worker\n",
      "    task = get()\n",
      "  File \"/Users/tyler/opt/anaconda3/lib/python3.7/multiprocessing/synchronize.py\", line 95, in __enter__\n",
      "    return self._semlock.__enter__()\n",
      "KeyboardInterrupt\n",
      "KeyboardInterrupt\n",
      "  File \"/Users/tyler/opt/anaconda3/lib/python3.7/multiprocessing/queues.py\", line 352, in get\n",
      "    res = self._reader.recv_bytes()\n",
      "KeyboardInterrupt\n",
      "  File \"/Users/tyler/opt/anaconda3/lib/python3.7/multiprocessing/connection.py\", line 216, in recv_bytes\n",
      "    buf = self._recv_bytes(maxlength)\n",
      "  File \"/Users/tyler/opt/anaconda3/lib/python3.7/multiprocessing/connection.py\", line 407, in _recv_bytes\n",
      "    buf = self._recv(4)\n",
      "  File \"/Users/tyler/opt/anaconda3/lib/python3.7/multiprocessing/connection.py\", line 379, in _recv\n",
      "    chunk = read(handle, remaining)\n",
      "KeyboardInterrupt\n"
     ]
    }
   ],
   "source": [
    "ds.animate_spring(movie=True)"
   ]
  },
  {
   "cell_type": "code",
   "execution_count": 867,
   "metadata": {},
   "outputs": [],
   "source": [
    "def _plot_settings(x):\n",
    "        colors = np.zeros((x.shape[0], 4))\n",
    "        colors[:, 2] = 1\n",
    "        alpha = np.linspace(0.2, 0.8, x.shape[0]) ** 2.\n",
    "        colors[:, 3] = alpha\n",
    "        return colors\n",
    "    \n",
    "def _plot_settings_2(x):\n",
    "        colors_0 = np.zeros((x.shape[0], 4))\n",
    "        colors_1 = np.zeros((x.shape[0], 4))\n",
    "        alpha = np.linspace(0.4, 0.8, x.shape[0]) ** 2.\n",
    "        colors_0[:, 3] = alpha\n",
    "        colors_1[:, 3] = alpha\n",
    "        return colors_0, colors_1\n",
    "    \n",
    "def save_frame(fig, d, i, trace=True, axes_off=True):\n",
    "    colors = _plot_settings(d.x1[:i])\n",
    "\n",
    "    if trace:\n",
    "        plt.scatter(d.x2[:i], d.y2[:i], color=colors[:i], s=2., \n",
    "                    zorder=0)\n",
    "        \n",
    "    if axes_off:\n",
    "        plt.axis('off')\n",
    "        \n",
    "    plt.plot([0, d.x1[i]], [0, d.y1[i]], color='black', \n",
    "             zorder=1, linewidth=1., alpha=0.7)\n",
    "    plt.plot([d.x1[i], d.x2[i]], [d.y1[i], d.y2[i]], \n",
    "             color='blue', zorder=1, linewidth=1., alpha=0.7)\n",
    "    plt.scatter([0, d.x1[i], d.x2[i]], [0, d.y1[i], d.y2[i]], \n",
    "                color=((0,0,0,1),(0,0,0,1),(0, 0, 1, 1)), zorder=2)\n",
    "    \n",
    "def save_frame_2(fig, d, i, trace=True, axes_off=True):\n",
    "    _, colors_1 = _plot_settings_2(d.x1)\n",
    "\n",
    "    if trace:\n",
    "        plt.plot(d.x2[:i], d.y2[:i], color=colors_1, linewidth=0.75, \n",
    "                    zorder=0)\n",
    "        \n",
    "    if axes_off:\n",
    "        plt.axis('off')\n",
    "    \n",
    "def clear_figs(fig_cache):\n",
    "    \"\"\"\n",
    "    \"\"\"\n",
    "    figs = glob.glob(os.path.join(fig_cache, '*png'))\n",
    "    for f in figs:\n",
    "        os.remove(f)"
   ]
  },
  {
   "cell_type": "code",
   "execution_count": 868,
   "metadata": {},
   "outputs": [],
   "source": [
    "ps = np.random.uniform(-np.pi, np.pi, size=2)\n",
    "alpha = ps[0]\n",
    "beta = np.linspace(ps[1], ps[1] + 0.15, 10)\n",
    "ds_s = []\n",
    "\n",
    "for b in beta:\n",
    "    ds = DoubleSpringInt(dt=1. / 30., t_end=15., alpha_0=alpha, beta_0=b)\n",
    "    _ = ds.integrate()\n",
    "    ds_s.append(ds)"
   ]
  },
  {
   "cell_type": "code",
   "execution_count": 869,
   "metadata": {},
   "outputs": [],
   "source": [
    "mini_x, maxi_x = 0, -10\n",
    "mini_y, maxi_y = 0, -10\n",
    "\n",
    "for d in ds_s:\n",
    "    if np.min([d.x1, d.x2]) < mini_x:\n",
    "        mini_x = np.min([d.x1, d.x2])\n",
    "    if np.max([d.x1, d.x2]) > maxi_x:\n",
    "        maxi_x = np.max([d.x1, d.x2])\n",
    "    if np.min([d.y1, d.y2]) < mini_y:\n",
    "        mini_y = np.min([d.y1, d.y2])\n",
    "    if np.max([d.y1, d.y2]) > maxi_y:\n",
    "        maxi_y = np.max([d.y1, d.y2])"
   ]
  },
  {
   "cell_type": "code",
   "execution_count": 870,
   "metadata": {},
   "outputs": [],
   "source": [
    "def main(i):\n",
    "    dpi = 100\n",
    "    size = 712\n",
    "    fig_cache = '_figs'\n",
    "    fig = plt.figure(figsize=(size / dpi, size / dpi), dpi=dpi)\n",
    "    for d in ds_s:\n",
    "        save_frame(fig, d, i)\n",
    "    fig.set_size_inches(size/dpi, size/dpi, forward=True)\n",
    "    plt.xlim([mini_x * 1.05, maxi_x * 1.05])\n",
    "    plt.ylim([mini_y * 1.05, maxi_y * 1.05])\n",
    "    fig.tight_layout()\n",
    "    plt.savefig(os.path.join(fig_cache, str(i).zfill(5) + '.png'), dpi=dpi)\n",
    "    plt.clf()\n",
    "    plt.close()"
   ]
  },
  {
   "cell_type": "code",
   "execution_count": 871,
   "metadata": {},
   "outputs": [],
   "source": [
    "fig_cache = '_figs'\n",
    "clear_figs(fig_cache)\n",
    "pool = Pool(processes=cpu_count())\n",
    "_ = pool.map(main, np.arange(ds_s[0].x1.shape[0]))"
   ]
  },
  {
   "cell_type": "code",
   "execution_count": 872,
   "metadata": {},
   "outputs": [
    {
     "data": {
      "text/plain": [
       "0"
      ]
     },
     "execution_count": 872,
     "metadata": {},
     "output_type": "execute_result"
    }
   ],
   "source": [
    "frame_rate = 30\n",
    "fname = os.path.join('chaos.mp4')\n",
    "figs = os.path.join(fig_cache, '%05d.png')\n",
    "os.system('ffmpeg -r {} -f image2 -s 1920x1080 -i {} -vcodec \\\n",
    "            libx264 -crf 25  -pix_fmt yuv420p {}'.format(frame_rate, figs, fname))"
   ]
  }
 ],
 "metadata": {
  "kernelspec": {
   "display_name": "Python 3",
   "language": "python",
   "name": "python3"
  },
  "language_info": {
   "codemirror_mode": {
    "name": "ipython",
    "version": 3
   },
   "file_extension": ".py",
   "mimetype": "text/x-python",
   "name": "python",
   "nbconvert_exporter": "python",
   "pygments_lexer": "ipython3",
   "version": "3.7.6"
  }
 },
 "nbformat": 4,
 "nbformat_minor": 4
}
